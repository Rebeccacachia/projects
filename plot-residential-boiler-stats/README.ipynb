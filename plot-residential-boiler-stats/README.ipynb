{
 "cells": [
  {
   "cell_type": "markdown",
   "id": "b2644e1c",
   "metadata": {},
   "source": [
    "# Plot Residential Boiler Stats\n",
    "\n",
    "## What `pipeline.yaml` is doing:\n",
    "\n",
    "![pipeline.png](pipeline.png)\n",
    "\n",
    "## Setup\n",
    "\n",
    "| ❗  Skip if running on Binder  |\n",
    "|-------------------------------|\n",
    "\n",
    "Via [conda](https://github.com/conda-forge/miniforge):"
   ]
  },
  {
   "cell_type": "code",
   "execution_count": null,
   "id": "85d63289",
   "metadata": {},
   "outputs": [],
   "source": [
    "conda env create --file environment.yml --name plot-residential-boiler-stats\n",
    "conda activate plot-residential-boiler-stats"
   ]
  },
  {
   "cell_type": "markdown",
   "id": "84a1451d",
   "metadata": {},
   "source": [
    "## Run"
   ]
  },
  {
   "cell_type": "code",
   "execution_count": null,
   "id": "4ec57266",
   "metadata": {},
   "outputs": [],
   "source": [
    "!ploomber build"
   ]
  }
 ],
 "metadata": {
  "jupytext": {
   "cell_metadata_filter": "-all"
  },
  "kernelspec": {
   "display_name": "Python 3 (ipykernel)",
   "language": "python",
   "name": "python3"
  }
 },
 "nbformat": 4,
 "nbformat_minor": 5
}
