{
 "cells": [
  {
   "cell_type": "markdown",
   "id": "aa5f4107",
   "metadata": {},
   "source": [
    "# Extract Dublin Electricity Lines & Substations\n",
    "\n",
    "| :exclamation:  Requires ESB Networks CAD Network files |\n",
    "|--------------------------------------------------------|\n",
    "    \n",
    "## What `pipeline.py` is doing:\n",
    "\n",
    "![pipeline.png](pipeline.png)\n",
    "\n",
    "## Install\n",
    "\n",
    "| :exclamation:  Skip unless running this locally |\n",
    "|-------------------------------------------------|\n",
    "\n",
    "Via [conda](https://github.com/conda-forge/miniforge):\n",
    "\n",
    "- Minimal"
   ]
  },
  {
   "cell_type": "code",
   "execution_count": null,
   "id": "8a3acef3",
   "metadata": {},
   "outputs": [],
   "source": [
    "conda env create --file environment.yml --name extract-dublin-electricity-infrastructure\n",
    "conda activate extract-dublin-electricity-infrastructure"
   ]
  },
  {
   "cell_type": "markdown",
   "id": "ee0fec3a",
   "metadata": {},
   "source": [
    "## Run\n",
    "\n",
    "Now run the pipeline:"
   ]
  },
  {
   "cell_type": "code",
   "execution_count": null,
   "id": "b0e93f89",
   "metadata": {},
   "outputs": [],
   "source": [
    "!ploomber build"
   ]
  }
 ],
 "metadata": {
  "jupytext": {
   "cell_metadata_filter": "-all"
  },
  "kernelspec": {
   "display_name": "Python 3 (ipykernel)",
   "language": "python",
   "name": "python3"
  }
 },
 "nbformat": 4,
 "nbformat_minor": 5
}
