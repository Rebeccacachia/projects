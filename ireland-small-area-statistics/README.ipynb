{
 "cells": [
  {
   "cell_type": "markdown",
   "id": "92e351c1",
   "metadata": {},
   "source": [
    "# Ireland Small Area Statistics\n",
    "\n",
    "1. Melt Census 2016 Ireland residential dwellings to individual building level\n",
    "2. Link to postcodes - *for merging with BERs*\n",
    "\n",
    "## Setup\n",
    "\n",
    "| ❗  Skip if running on Binder  |\n",
    "|-------------------------------|\n",
    "\n",
    "Via [conda](https://github.com/conda-forge/miniforge):\n",
    "```\n",
    "conda env create --file environment.yml\n",
    "conda activate ireland-small-area-statistics\n",
    "```\n",
    "\n",
    "## Run\n",
    "\n",
    "```\n",
    "python pipeline.py\n",
    "```"
   ]
  }
 ],
 "metadata": {
  "jupytext": {
   "cell_metadata_filter": "-all"
  },
  "kernelspec": {
   "display_name": "Python 3 (ipykernel)",
   "language": "python",
   "name": "python3"
  }
 },
 "nbformat": 4,
 "nbformat_minor": 5
}
