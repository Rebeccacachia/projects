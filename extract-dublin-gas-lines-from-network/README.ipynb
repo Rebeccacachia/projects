{
 "cells": [
  {
   "cell_type": "markdown",
   "id": "6f4af714",
   "metadata": {},
   "source": [
    "# Extract Dublin Gas Lines\n",
    "\n",
    "| :exclamation:  Requires GNI Network files |\n",
    "|-------------------------------------------|\n",
    "\n",
    "## What `pipeline.py` is doing:\n",
    "\n",
    "![pipeline.png](pipeline.png)\n",
    "\n",
    "## Setup\n",
    "\n",
    "| ❗  Skip if running on Binder  |\n",
    "|-------------------------------|\n",
    "\n",
    "Via [conda](https://github.com/conda-forge/miniforge):"
   ]
  },
  {
   "cell_type": "code",
   "execution_count": null,
   "id": "2335bba6",
   "metadata": {},
   "outputs": [],
   "source": [
    "conda env create --file environment.yml --name extract-dublin-gas-lines-from-network\n",
    "conda activate extract-dublin-gas-lines-from-network"
   ]
  },
  {
   "cell_type": "markdown",
   "id": "c28e7041",
   "metadata": {},
   "source": [
    "## Run \n",
    "\n",
    "Now run the pipeline:"
   ]
  },
  {
   "cell_type": "code",
   "execution_count": null,
   "id": "60688547",
   "metadata": {},
   "outputs": [],
   "source": [
    "!ploomber build"
   ]
  }
 ],
 "metadata": {
  "jupytext": {
   "cell_metadata_filter": "-all"
  },
  "kernelspec": {
   "display_name": "Python 3 (ipykernel)",
   "language": "python",
   "name": "python3"
  }
 },
 "nbformat": 4,
 "nbformat_minor": 5
}
