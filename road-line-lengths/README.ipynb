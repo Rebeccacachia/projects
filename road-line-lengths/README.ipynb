{
 "cells": [
  {
   "cell_type": "markdown",
   "id": "0a4da1bc",
   "metadata": {},
   "source": [
    "# Road Line Lengths\n",
    "\n",
    "## What `pipeline.py` is doing:\n",
    "\n",
    "![flow.png](flow.png)\n",
    "\n",
    "## Setup\n",
    "\n",
    "| ❗  Skip if running on Binder  |\n",
    "|-------------------------------|\n",
    "\n",
    "Via [conda](https://github.com/conda-forge/miniforge):"
   ]
  },
  {
   "cell_type": "code",
   "execution_count": null,
   "id": "4964fcea",
   "metadata": {},
   "outputs": [],
   "source": [
    "conda env create --file environment.yml --name line-lengths\n",
    "conda activate line-lengths"
   ]
  },
  {
   "cell_type": "markdown",
   "id": "02e57b9c",
   "metadata": {},
   "source": [
    "## Run"
   ]
  },
  {
   "cell_type": "code",
   "execution_count": null,
   "id": "23b26af4",
   "metadata": {},
   "outputs": [],
   "source": [
    "python pipeline.py"
   ]
  }
 ],
 "metadata": {
  "jupytext": {
   "cell_metadata_filter": "-all"
  },
  "kernelspec": {
   "display_name": "Python 3 (ipykernel)",
   "language": "python",
   "name": "python3"
  }
 },
 "nbformat": 4,
 "nbformat_minor": 5
}
