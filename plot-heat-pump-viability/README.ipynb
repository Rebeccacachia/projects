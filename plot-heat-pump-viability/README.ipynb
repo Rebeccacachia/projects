{
 "cells": [
  {
   "cell_type": "markdown",
   "id": "21ae513f",
   "metadata": {},
   "source": [
    "# Retrofit all Residential Homes to HLP=2\n",
    "\n",
    "## Setup\n",
    "\n",
    "| ❗  Skip if running on Binder  |\n",
    "|-------------------------------|\n",
    "\n",
    "Via [conda](https://github.com/conda-forge/miniforge):"
   ]
  },
  {
   "cell_type": "code",
   "execution_count": null,
   "id": "fd6c5a59",
   "metadata": {},
   "outputs": [],
   "source": [
    "conda env create --name retrofit --file environment.yml\n",
    "conda activate retrofit"
   ]
  },
  {
   "cell_type": "markdown",
   "id": "f810ef36",
   "metadata": {},
   "source": [
    "## Run"
   ]
  },
  {
   "cell_type": "code",
   "execution_count": null,
   "id": "b68027cc",
   "metadata": {},
   "outputs": [],
   "source": [
    "python pipeline.py"
   ]
  }
 ],
 "metadata": {
  "jupytext": {
   "cell_metadata_filter": "-all"
  },
  "kernelspec": {
   "display_name": "Python 3 (ipykernel)",
   "language": "python",
   "name": "python3"
  }
 },
 "nbformat": 4,
 "nbformat_minor": 5
}
