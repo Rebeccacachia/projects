{
 "cells": [
  {
   "cell_type": "markdown",
   "id": "1a074570",
   "metadata": {},
   "source": [
    "# Estimate Valuation Office Building Demands\n",
    "\n",
    "## Setup\n",
    "\n",
    "| ❗  Skip if running on Binder  |\n",
    "|-------------------------------|\n",
    "\n",
    "Via [conda](https://github.com/conda-forge/miniforge):"
   ]
  },
  {
   "cell_type": "code",
   "execution_count": null,
   "id": "6e61a361",
   "metadata": {},
   "outputs": [],
   "source": [
    "conda env create --name valuation-office --file environment.yml\n",
    "conda activate valuation-office"
   ]
  },
  {
   "cell_type": "markdown",
   "id": "54f62889",
   "metadata": {},
   "source": [
    "## Run"
   ]
  },
  {
   "cell_type": "code",
   "execution_count": null,
   "id": "c79699d5",
   "metadata": {},
   "outputs": [],
   "source": [
    "!ploomber build"
   ]
  }
 ],
 "metadata": {
  "jupytext": {
   "cell_metadata_filter": "-all"
  },
  "kernelspec": {
   "display_name": "Python 3 (ipykernel)",
   "language": "python",
   "name": "python3"
  }
 },
 "nbformat": 4,
 "nbformat_minor": 5
}
