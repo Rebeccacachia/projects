{
 "cells": [
  {
   "cell_type": "markdown",
   "id": "8bd8222e",
   "metadata": {},
   "source": [
    "# Heritage Buildings\n",
    "\n",
    "Extract all Dublin Heritage Buildings according to https://maps.archaeology.ie/historicenvironment/\n",
    "\n",
    "## Setup\n",
    "\n",
    "| ❗  Skip if running on Binder  |\n",
    "|-------------------------------|\n",
    "\n",
    "\n",
    "Via [conda](https://github.com/conda-forge/miniforge):"
   ]
  },
  {
   "cell_type": "code",
   "execution_count": null,
   "id": "db1d9e63",
   "metadata": {},
   "outputs": [],
   "source": [
    "conda env create --name heritage --file environment.yml\n",
    "conda activate heritage"
   ]
  },
  {
   "cell_type": "markdown",
   "id": "de12d13d",
   "metadata": {},
   "source": [
    "## Run"
   ]
  },
  {
   "cell_type": "code",
   "execution_count": null,
   "id": "d9e50ed8",
   "metadata": {},
   "outputs": [],
   "source": [
    "!ploomber build"
   ]
  }
 ],
 "metadata": {
  "jupytext": {
   "cell_metadata_filter": "-all"
  },
  "kernelspec": {
   "display_name": "Python 3 (ipykernel)",
   "language": "python",
   "name": "python3"
  }
 },
 "nbformat": 4,
 "nbformat_minor": 5
}
