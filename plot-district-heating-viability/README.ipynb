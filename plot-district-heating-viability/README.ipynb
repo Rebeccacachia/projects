{
 "cells": [
  {
   "cell_type": "markdown",
   "id": "6a04e8a2",
   "metadata": {},
   "source": [
    "# Heat Demand Density\n",
    "\n",
    "## What `pipeline.py` is doing:\n",
    "\n",
    "- Load:\n",
    "    - Valuation Office Floor Areas\n",
    "    - Residential Small Area Building Energy Ratings\n",
    "    - CIBSE TM46 & Guide F Energy Benchmarks \n",
    "    - Valuation Office Uses linked to Benchmark Categories\n",
    "    - Local Authority Boundaries\n",
    "    - Small Area 2016 Boundaries\n",
    "- Link Small Areas to Local Authorities\n",
    "- Link Valuation Office to Small Areas\n",
    "- Apply CIBSE benchmarks to Valuation Office Floor Areas to estimate Non-Residential Heat Demand - *assuming a typical boiler efficiency of 90%*\n",
    "- Extract individual building DEAP annual space heat and hot water demand estimates to estimate Residential Heat Demand\n",
    "- Amalgamate Heat Demands from individual building level to Small Area level\n",
    "- Calculate Demand Density by dividing Small Area Demands by Small Area Polygon Area (km2)\n",
    "- Link Small Area Demands to Local Authorities\n",
    "- Save Small Area Demands as a GIS-compatible `geojson` map.\n",
    "\n",
    "## Caveats\n",
    "\n",
    "To fully reproduce the pipeline the user must:\n",
    "- Have access to the codema-dev s3 to access the underlying Codema-only datasets - *i.e. they need an authenticated AWS_ACCESS_KEY_ID and AWS_SECRET_ACCESS_KEY*\n",
    "- Be comfortable enough with the command line to create a conda environment from an `environment.yml` and run the pipeline with `python pipeline.py`\n",
    "\n",
    "To open up this methodology to the public the pipeline could be adapted to default to public data if it can't connect to s3, however, this would only be worthwhile if a UI entrypoint to the ETL was created to mitigate the need for command line usage"
   ]
  },
  {
   "cell_type": "markdown",
   "id": "f84c6d1b",
   "metadata": {},
   "source": [
    "## Setup\n",
    "\n",
    "| ❗  Skip if running on Binder  |\n",
    "|-------------------------------|\n",
    "\n",
    "Via [conda](https://github.com/conda-forge/miniforge):"
   ]
  },
  {
   "cell_type": "code",
   "execution_count": null,
   "id": "9c733dd9",
   "metadata": {},
   "outputs": [],
   "source": [
    "conda env create --file environment.yml\n",
    "conda activate hdd"
   ]
  },
  {
   "cell_type": "markdown",
   "id": "3fe945eb",
   "metadata": {},
   "source": [
    "## Run"
   ]
  },
  {
   "cell_type": "code",
   "execution_count": null,
   "id": "72a14e80",
   "metadata": {},
   "outputs": [],
   "source": [
    "!ploomber build"
   ]
  }
 ],
 "metadata": {
  "jupytext": {
   "cell_metadata_filter": "-all"
  },
  "kernelspec": {
   "display_name": "Python 3 (ipykernel)",
   "language": "python",
   "name": "python3"
  }
 },
 "nbformat": 4,
 "nbformat_minor": 5
}
