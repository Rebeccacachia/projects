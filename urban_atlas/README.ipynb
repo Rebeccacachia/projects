{
 "cells": [
  {
   "cell_type": "markdown",
   "id": "aacfb000",
   "metadata": {},
   "source": [
    "# Urban Atlas\n",
    "\n",
    "Calculate the area of each urban atlas polygon type (i.e. Discontinuous Dense Urban Fabric, Continuous Urban Fabric etc) in each CSO Small Area boundary\n",
    "\n",
    "> **Caveat**: You must manually download the Urban Atlas data from https://land.copernicus.eu/local/urban-atlas and save it to a new folder called data/raw\n",
    "\n",
    "## Setup\n",
    "\n",
    "| ❗  Skip if running on Binder  |\n",
    "|-------------------------------|\n",
    "\n",
    "Via [conda](https://github.com/conda-forge/miniforge):"
   ]
  },
  {
   "cell_type": "code",
   "execution_count": null,
   "id": "a645353e",
   "metadata": {},
   "outputs": [],
   "source": [
    "conda env create --name urban-fabric --file environment.yml\n",
    "conda activate urban-fabric"
   ]
  },
  {
   "cell_type": "markdown",
   "id": "43a05a96",
   "metadata": {},
   "source": [
    "## Run"
   ]
  },
  {
   "cell_type": "code",
   "execution_count": null,
   "id": "a9119535",
   "metadata": {},
   "outputs": [],
   "source": [
    "!ploomber build"
   ]
  }
 ],
 "metadata": {
  "jupytext": {
   "cell_metadata_filter": "-all"
  },
  "kernelspec": {
   "display_name": "Python 3 (ipykernel)",
   "language": "python",
   "name": "python3"
  }
 },
 "nbformat": 4,
 "nbformat_minor": 5
}
