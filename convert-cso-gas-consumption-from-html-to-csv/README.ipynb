{
 "cells": [
  {
   "cell_type": "markdown",
   "id": "4abe2896",
   "metadata": {},
   "source": [
    "# Convert CSO Gas Consumption from HTML to CSV\n",
    "\n",
    "- Download the annual CSO Gas consumption data as a HTML file\n",
    "- Extract, clean and convert the tables to CSV\n",
    "\n",
    "## Setup\n",
    "\n",
    "| ❗  Skip if running on Binder  |\n",
    "|-------------------------------|\n",
    "\n",
    "Via [conda](https://github.com/conda-forge/miniforge):"
   ]
  },
  {
   "cell_type": "code",
   "execution_count": null,
   "id": "ce815ffa",
   "metadata": {},
   "outputs": [],
   "source": [
    "conda env create --name convert-cso-gas-from-html-to-csv --file environment.yml\n",
    "conda activate convert-cso-gas-from-html-to-csv"
   ]
  },
  {
   "cell_type": "markdown",
   "id": "298d3961",
   "metadata": {},
   "source": [
    "## Run"
   ]
  },
  {
   "cell_type": "code",
   "execution_count": null,
   "id": "bd634a5c",
   "metadata": {},
   "outputs": [],
   "source": [
    "!ploomber build"
   ]
  }
 ],
 "metadata": {
  "jupytext": {
   "cell_metadata_filter": "-all"
  },
  "kernelspec": {
   "display_name": "Python 3 (ipykernel)",
   "language": "python",
   "name": "python3"
  }
 },
 "nbformat": 4,
 "nbformat_minor": 5
}
