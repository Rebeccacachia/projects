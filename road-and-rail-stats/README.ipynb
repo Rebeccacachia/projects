{
 "cells": [
  {
   "cell_type": "markdown",
   "id": "d24b7bb5",
   "metadata": {},
   "source": [
    "# Road & Rail Emissions\n",
    "\n",
    "Explore the `National Transport Authority of Ireland` Emission Model outputs in `Jupyter Notebooks`\n",
    "\n",
    "## Caveats\n",
    "\n",
    "To fully reproduce the pipeline the user must:\n",
    "\n",
    "- Have access to:\n",
    "    - `National Transport Authority of Ireland` model outputs \n",
    "\n",
    "## Setup\n",
    "\n",
    "| ❗  Skip if running on Binder  |\n",
    "|-------------------------------|\n",
    "\n",
    "Via [conda](https://github.com/conda-forge/miniforge):"
   ]
  },
  {
   "cell_type": "code",
   "execution_count": null,
   "id": "4ec4cf5c",
   "metadata": {},
   "outputs": [],
   "source": [
    "conda env create --file environment.yml\n",
    "conda activate road-and-rail-emissions"
   ]
  },
  {
   "cell_type": "markdown",
   "id": "a9ab84fc",
   "metadata": {},
   "source": [
    "## Run"
   ]
  },
  {
   "cell_type": "code",
   "execution_count": null,
   "id": "c5a54171",
   "metadata": {},
   "outputs": [],
   "source": [
    "jupyter noteook"
   ]
  }
 ],
 "metadata": {
  "jupytext": {
   "cell_metadata_filter": "-all"
  },
  "kernelspec": {
   "display_name": "Python 3 (ipykernel)",
   "language": "python",
   "name": "python3"
  }
 },
 "nbformat": 4,
 "nbformat_minor": 5
}
