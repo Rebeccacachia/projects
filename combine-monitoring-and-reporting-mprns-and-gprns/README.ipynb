{
 "cells": [
  {
   "cell_type": "markdown",
   "id": "08b60c4a",
   "metadata": {},
   "source": [
    "# Monitoring & Reporting\n",
    "\n",
    "## What `pipeline.py` is doing:\n",
    "\n",
    "- Load:\n",
    "    - Monitoring & Reporting Data\n",
    "- Link MPRNs to GPRNs\n",
    "\n",
    "## Caveat\n",
    "\n",
    "The M&R data is publicly available, however, the user still needs to [create their own s3 credentials](https://aws.amazon.com/s3/) to fully reproduce the pipeline this pipeline (*i.e. they need an AWS_ACCESS_KEY_ID and AWS_SECRET_ACCESS_KEY*)\n",
    "\n",
    "## Setup\n",
    "\n",
    "| ❗  Skip if running on Binder  |\n",
    "|-------------------------------|\n",
    "\n",
    "Via [conda](https://github.com/conda-forge/miniforge):"
   ]
  },
  {
   "cell_type": "code",
   "execution_count": null,
   "id": "38a53543",
   "metadata": {},
   "outputs": [],
   "source": [
    "conda env create --file environment.yml\n",
    "conda activate hdd"
   ]
  },
  {
   "cell_type": "markdown",
   "id": "d39fb41e",
   "metadata": {},
   "source": [
    "## Run"
   ]
  },
  {
   "cell_type": "code",
   "execution_count": null,
   "id": "b462e191",
   "metadata": {},
   "outputs": [],
   "source": [
    "python pipeline.py"
   ]
  }
 ],
 "metadata": {
  "jupytext": {
   "cell_metadata_filter": "-all"
  },
  "kernelspec": {
   "display_name": "Python 3 (ipykernel)",
   "language": "python",
   "name": "python3"
  }
 },
 "nbformat": 4,
 "nbformat_minor": 5
}
