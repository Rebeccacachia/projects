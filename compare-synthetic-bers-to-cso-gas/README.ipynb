{
 "cells": [
  {
   "cell_type": "markdown",
   "id": "fd574661",
   "metadata": {},
   "source": [
    "# Compare Synthetic BERs to CSO Gas Consumption\n",
    "\n",
    "- Download County & Dublin Postal District annual CSO Gas consumption data\n",
    "- (closed-access) Download Synthetic Dublin Building Energy Ratings (BERs)\n",
    "- Concatenate County Dublin gas consumption with Dublin Postal District consumption\n",
    "- Amalgamate the BERs to postal districts\n",
    "- Plot gas vs estimated heat \n",
    "\n",
    "## Setup\n",
    "\n",
    "| ❗  Skip if running on Binder  |\n",
    "|-------------------------------|\n",
    "\n",
    "Via [conda](https://github.com/conda-forge/miniforge):"
   ]
  },
  {
   "cell_type": "code",
   "execution_count": null,
   "id": "9b5a1221",
   "metadata": {},
   "outputs": [],
   "source": [
    "conda env create --name compare-bers-to-cso-gas --file environment.yml\n",
    "conda activate compare-bers-to-cso-gas"
   ]
  },
  {
   "cell_type": "markdown",
   "id": "442c61ce",
   "metadata": {},
   "source": [
    "## Run"
   ]
  },
  {
   "cell_type": "code",
   "execution_count": null,
   "id": "da7617d1",
   "metadata": {},
   "outputs": [],
   "source": [
    "!ploomber build"
   ]
  }
 ],
 "metadata": {
  "jupytext": {
   "cell_metadata_filter": "-all"
  },
  "kernelspec": {
   "display_name": "Python 3 (ipykernel)",
   "language": "python",
   "name": "python3"
  }
 },
 "nbformat": 4,
 "nbformat_minor": 5
}
